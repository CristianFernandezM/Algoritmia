{
 "cells": [
  {
   "cell_type": "markdown",
   "metadata": {},
   "source": [
    "# 1. Iteradores\n",
    " Un iterador es un objeto que recorre los elementos de un objeto iterable. Son iterables:\n",
    " * las estructuras de datos (listas, conjuntos, árboles, diccionarios...),\n",
    " * los generadores (finitos e infinitos),\n",
    " * las cadenas de texto.\n",
    "\n",
    " Profe:\n",
    " * Iterable: list(), det()\n",
    " * Iterador: iter()\n",
    " * Generador: tield()"
   ]
  },
  {
   "cell_type": "code",
   "execution_count": 25,
   "metadata": {},
   "outputs": [],
   "source": [
    "from collections.abc import Iterable \n",
    "# También funciona sin abc"
   ]
  },
  {
   "cell_type": "code",
   "execution_count": 26,
   "metadata": {},
   "outputs": [
    {
     "name": "stdout",
     "output_type": "stream",
     "text": [
      "list es iterable\n",
      "range es iterable\n",
      "dict es iterable\n",
      "int no es iterable\n",
      "float no es iterable\n",
      "str es iterable\n"
     ]
    }
   ],
   "source": [
    "for _ in [list(), range(100), dict(), 5, .5, \"ficheros\"]:\n",
    "    if (isinstance(_, Iterable)):\n",
    "        print(type(_).__name__,\"es iterable\")\n",
    "    else:\n",
    "        print(type(_).__name__,\"no es iterable\")"
   ]
  },
  {
   "cell_type": "markdown",
   "metadata": {},
   "source": [
    "### 1.1. Operaciones con un iterador\n",
    "__Funciones__\n",
    "* Crear iter(<objeto iterable>)\n",
    "* Acceder al siguiente elemento next(<iterador>)\n",
    "* Fin del iterable: se lanza la excepción StopIteration\n",
    "\n",
    "__Ejemplo__\n",
    "\n",
    "    lista = [0, 1, 2, 3, 4, 5, 6, 7, 8, 9, 10, ..., 999]\n",
    "\n",
    "    iterador = iter(lista)\n",
    "\n",
    "    while True:\n",
    "\n",
    "        try:\n",
    "\n",
    "            elemento = next(iterador)\n",
    "\n",
    "            \"Operaciones con elemento\"\n",
    "\n",
    "         except StopIteration:\n",
    "\n",
    "            break\n",
    "\n",
    " Todo esto se condensa en el bucle for\n",
    "\n",
    "__Ejemplo__\n",
    "\n",
    "    lista = [0, 1, 2, 3, 4, 5, 6, 7, 8, 9, 10, ..., 999]\n",
    "\n",
    "    for elemento in lista:\n",
    "    \n",
    "        \"Operaciones con elemento\"\n",
    "\n"
   ]
  },
  {
   "cell_type": "markdown",
   "metadata": {},
   "source": [
    "# 2. Generadores\n",
    " Un generador es un objeto iterable cuyo siguiente valor se calcula cuando se pide.\n",
    "\n",
    " Ejemplo: range .\n",
    "\n",
    " range() es una función que genera un rango de números según las condiciones de su creación. Cada número es creado cuando se pide"
   ]
  },
  {
   "cell_type": "code",
   "execution_count": 27,
   "metadata": {},
   "outputs": [
    {
     "name": "stdout",
     "output_type": "stream",
     "text": [
      "range(0, 100, 2)\n",
      "\n",
      "[0, 2, 4, 6, 8, 10, 12, 14, 16, 18, 20, 22, 24, 26, 28, 30, 32, 34, 36, 38, 40, 42, 44, 46, 48, 50, 52, 54, 56, 58, 60, 62, 64, 66, 68, 70, 72, 74, 76, 78, 80, 82, 84, 86, 88, 90, 92, 94, 96, 98]\n"
     ]
    }
   ],
   "source": [
    "# Ejemplo: números pares\n",
    "print(range(0,100,2), end=\"\\n\\n\")\n",
    "print(list(range(0,100,2)))"
   ]
  },
  {
   "cell_type": "markdown",
   "metadata": {},
   "source": [
    "### 2.1. Crear un generador\n",
    " Un generador se crea devolviendo un valor en una función utilizando la palabra clave yield . Esto para la función hasta el siguiente yield .\n",
    "\n",
    " __Ejemplo__\n",
    " "
   ]
  },
  {
   "cell_type": "code",
   "execution_count": 28,
   "metadata": {},
   "outputs": [
    {
     "data": {
      "text/plain": [
       "<generator object pares at 0x0000013329653D30>"
      ]
     },
     "execution_count": 28,
     "metadata": {},
     "output_type": "execute_result"
    }
   ],
   "source": [
    "def pares(hasta=100):\n",
    "    i = 0\n",
    "    while i <= hasta:\n",
    "        if i%2 == 0:\n",
    "            yield i\n",
    "        i += 1\n",
    "pares()"
   ]
  },
  {
   "cell_type": "code",
   "execution_count": 29,
   "metadata": {},
   "outputs": [
    {
     "name": "stdout",
     "output_type": "stream",
     "text": [
      "[0, 2, 4, 6, 8, 10, 12, 14, 16, 18, 20, 22, 24, 26, 28, 30, 32, 34, 36, 38, 40, 42, 44, 46, 48, 50, 52, 54, 56, 58, 60, 62, 64, 66, 68, 70, 72, 74, 76, 78, 80, 82, 84, 86, 88, 90, 92, 94, 96, 98, 100, 102, 104, 106, 108, 110, 112, 114, 116, 118, 120, 122, 124, 126, 128, 130, 132, 134, 136, 138, 140, 142, 144, 146, 148, 150, 152, 154, 156, 158, 160, 162, 164, 166, 168, 170, 172, 174, 176, 178, 180, 182, 184, 186, 188, 190, 192, 194, 196, 198, 200]\n"
     ]
    }
   ],
   "source": [
    "pares_ = []\n",
    "for _ in pares(200):\n",
    "    pares_.append(_)\n",
    "print(pares_)"
   ]
  },
  {
   "cell_type": "code",
   "execution_count": 30,
   "metadata": {},
   "outputs": [
    {
     "name": "stdout",
     "output_type": "stream",
     "text": [
      "Se ha generado de uno en uno\n"
     ]
    }
   ],
   "source": [
    "# Comprobación que se genera uno a uno\n",
    "for v in pares(10**1000):\n",
    "    if v >= 100:\n",
    "        break\n",
    "print(\"Se ha generado de uno en uno\")"
   ]
  },
  {
   "cell_type": "markdown",
   "metadata": {},
   "source": [
    "De devolverse todos los valores a la vez tardaría demasiado y no cabría en memoria.\n",
    "\n",
    "__Ejemplo:__ metiendo el resultado en una lista antes de iterar en ella.\n",
    "\n",
    "    for v in list(pares(10**1000)):\n",
    "\n",
    "        if v >= 100:\n",
    "\n",
    "            break"
   ]
  },
  {
   "cell_type": "markdown",
   "metadata": {},
   "source": [
    "### 2.2. Consejos sobre los generadores\n",
    "1. Los generadores soportan funciones como max , min o len **PERO** consumen su contenido y no se puede recuperar. Se recomiendo no utilizar esa funciones sobre los generadores.\n",
    "2. Un generador puede contener la orden return pero cerrará definitivamente al mismo. Igualmente un yield que no tiene ordenes posteriores tiene el mismo efecto. Se recomienda utilizar siempre yield dentro de los generadores.\n",
    "3. El generador dura tanto como dure la función que lo contiene, si se quieren generar varios datos es importante recordar que el yield deberá estar dentro de un bucle o que haya varios yield en una misma función"
   ]
  },
  {
   "cell_type": "markdown",
   "metadata": {},
   "source": [
    "# Ejercicios\n",
    "### Iteradores y Generadores I\n",
    "Se pide la implementación de las funciones que aparecen a continuación. \n",
    "\n",
    "En el cuerpo de cada función hay una instrucción `pass`, se debe sustituir por la implementación adecuada. \n",
    "\n",
    "Para cada función que se pide se proporciona una función con algunos tests. \n",
    "\n",
    "Al llamar a las funciones de test no debería saltar ninguna aserción."
   ]
  },
  {
   "cell_type": "markdown",
   "metadata": {},
   "source": [
    "##### `iterador_con_sustitucion`"
   ]
  },
  {
   "cell_type": "code",
   "execution_count": 31,
   "metadata": {},
   "outputs": [],
   "source": [
    "def iterador_con_sustitucion(iterable, cambios):\n",
    "    \"\"\"\n",
    "    Dado un iterable, genera sus valores una vez aplicadas las sustituciones \n",
    "    indicadas por el diccionario de cambios.\n",
    "    Los valores no hay que devolverlos todos a la vez, se deben generar de uno \n",
    "    en uno.\n",
    "    \"\"\" \n",
    "    for x in iterable:\n",
    "        if x in cambios:\n",
    "            x = cambios[x]\n",
    "            \n",
    "        yield x\n"
   ]
  },
  {
   "cell_type": "code",
   "execution_count": 32,
   "metadata": {},
   "outputs": [
    {
     "name": "stdout",
     "output_type": "stream",
     "text": [
      "OK\n"
     ]
    }
   ],
   "source": [
    "def test_iterador_con_sustitucion(): \n",
    "    \"\"\"\n",
    "    Casos de prueba para iterador_con_sustitucion().\n",
    "    \"\"\"\n",
    "    \n",
    "    for iterable, cambios, iterable_sustituido in (\n",
    "        ([1, 2, 3, 4, 1, 2], {2: 1, 1: 2, 3: 5}, [2, 1, 5, 4, 2, 1]),\n",
    "        ([1, 2, 3, 4, 1, 2] * 100, {2: 1, 1: 2, 3: 5}, \n",
    "            [2, 1, 5, 4, 2, 1] * 100),\n",
    "        (\"abcdb\" * 100, {'a': 'z', 'b': 'a', 'd': 'y'},\n",
    "            ['z', 'a', 'c', 'y', 'a'] * 100)\n",
    "    ):\n",
    "        assert (list(iterador_con_sustitucion(iterable, cambios)) \n",
    "                == iterable_sustituido)\n",
    "        it = iterador_con_sustitucion(iterable, cambios)\n",
    "        for e in iterable_sustituido:\n",
    "            assert e == next(it)\n",
    "            \n",
    "    for v in iterador_con_sustitucion(range(10**100), {0: 0}):\n",
    "        if v >= 100:\n",
    "            break\n",
    "            \n",
    "    return True\n",
    "            \n",
    "if __name__ == \"__main__\": \n",
    "    test_iterador_con_sustitucion()\n",
    "    print(\"OK\")  "
   ]
  },
  {
   "cell_type": "markdown",
   "metadata": {},
   "source": [
    "##### `iterador_anidado`"
   ]
  },
  {
   "cell_type": "code",
   "execution_count": 33,
   "metadata": {},
   "outputs": [],
   "source": [
    "import collections   # por si es necesario usar collections.Iterable\n",
    "\n",
    "def iterador_anidado(elemento):\n",
    "    \"\"\"\n",
    "    Iterador que genera los valores en elemento recursivamente: si elemento no \n",
    "    es iterable genera solo elemento, pero si elemento es iterable genera sus\n",
    "    elementos de manera recursiva.\n",
    "    Los valores se deben generar de uno en uno.\n",
    "    \"\"\"\n",
    "    \n",
    "    if isinstance(elemento, Iterable):\n",
    "        for i in elemento:\n",
    "            yield from iterador_anidado(i)\n",
    "    else:\n",
    "        yield elemento\n",
    "    \n"
   ]
  },
  {
   "cell_type": "code",
   "execution_count": 34,
   "metadata": {},
   "outputs": [
    {
     "name": "stdout",
     "output_type": "stream",
     "text": [
      "OK\n"
     ]
    }
   ],
   "source": [
    "def test_iterador_anidado():\n",
    "    \"\"\"\n",
    "    Casos de prueba para iterador_anidado()\n",
    "    \"\"\"\n",
    "    \n",
    "    assert isinstance([4], Iterable)\n",
    "\n",
    "    assert not isinstance(4, Iterable)\n",
    "    \n",
    "    assert list(iterador_anidado(4)) == [4]\n",
    "\n",
    "    assert list(iterador_anidado([4])) == [4]\n",
    "\n",
    "    assert list(iterador_anidado((4,))) == [4]\n",
    "\n",
    "    assert list(iterador_anidado([[4]])) == [4]\n",
    "\n",
    "    assert list(iterador_anidado([1, [2, [3], 4]])) == [1, 2, 3, 4]\n",
    "\n",
    "    l1 = []; l2 = []; l3 = []\n",
    "    for i in range(100):\n",
    "        l1 += [i]\n",
    "        l2 = [l2, i]\n",
    "        assert l1 == list(iterador_anidado(l2))\n",
    "        l3 = [(l3, [i])]\n",
    "        assert l1 == list(iterador_anidado(l3))\n",
    "        \n",
    "    for v in iterador_anidado(range(10**100)):\n",
    "        if v > 100:\n",
    "            break\n",
    "    \n",
    "    return True\n",
    "\n",
    "if __name__ == \"__main__\": \n",
    "    test_iterador_anidado()\n",
    "    print(\"OK\")"
   ]
  },
  {
   "cell_type": "markdown",
   "metadata": {},
   "source": [
    "##### `generador_media_movil`"
   ]
  },
  {
   "cell_type": "code",
   "execution_count": 35,
   "metadata": {},
   "outputs": [],
   "source": [
    "def generador_media_movil(iterable, longitud):\n",
    "    \"\"\"\n",
    "    Dado un iterable de valores numéricos, genera los valores de la media móvil \n",
    "    de la longitud indicada.\n",
    "    Por ejemplo, si la longitud es 3, generaría la media de los 3 primeros\n",
    "    valores, de los valores del 2º al 4º, de los valores del 3º al 5º...\n",
    "    Los valores se deben generar de uno en uno.\n",
    "    \"\"\" \n",
    "\n",
    "    iterators = [iter(iterable[i:-longitud+i+1]) for i in range(longitud-1)]\n",
    "    for x in iterable[longitud-1:]:\n",
    "        yield sum([next(e) for e in iterators] + [x])/longitud\n"
   ]
  },
  {
   "cell_type": "code",
   "execution_count": 36,
   "metadata": {},
   "outputs": [
    {
     "name": "stdout",
     "output_type": "stream",
     "text": [
      "OK\n"
     ]
    }
   ],
   "source": [
    "def test_generador_media_movil(): \n",
    "    \"\"\"\n",
    "    Casos de prueba para generador_media_movil().\n",
    "    \"\"\"\n",
    "    \n",
    "    for secuencia in (list(range(10)), tuple(range(10)), range(10)):\n",
    "        assert (list(generador_media_movil(secuencia, 1))\n",
    "                == [0.0, 1.0, 2.0, 3.0, 4.0, 5.0, 6.0, 7.0, 8.0, 9.0])\n",
    "        assert (list(generador_media_movil(secuencia, 2))\n",
    "                == [0.5, 1.5, 2.5, 3.5, 4.5, 5.5, 6.5, 7.5, 8.5])\n",
    "        assert (list(generador_media_movil(secuencia, 3))\n",
    "                == [1.0, 2.0, 3.0, 4.0, 5.0, 6.0, 7.0, 8.0])   \n",
    "        assert (list(generador_media_movil(secuencia, 4)) \n",
    "                == [1.5, 2.5, 3.5, 4.5, 5.5, 6.5, 7.5])  \n",
    "        assert (list(generador_media_movil(secuencia, 5))\n",
    "                == [2.0, 3.0, 4.0, 5.0, 6.0, 7.0])  \n",
    "\n",
    "    assert list(generador_media_movil(range(100), 1)) == list(range(100))    \n",
    "    assert list(generador_media_movil(range(100), 3)) == list(range(1, 99))    \n",
    "    assert list(generador_media_movil(range(100), 5)) == list(range(2, 98))\n",
    "    \n",
    "    assert list(generador_media_movil(range(100), 2)) == [x + 0.5 for x in range(99)]\n",
    "    assert list(generador_media_movil(range(100), 4)) == [x + 1.5 for x in range(97)]\n",
    "\n",
    "    assert (list(generador_media_movil(range(100, 0, -1), 1)) \n",
    "            == list(range(100, 0, -1)))\n",
    "    assert (list(generador_media_movil(range(100, 0, -1), 3)) \n",
    "            == list(range(99, 1, -1)))\n",
    "    assert (list(generador_media_movil(range(100, 0, -1), 5)) \n",
    "            == list(range(98, 2, -1)))\n",
    "    \n",
    "    it = generador_media_movil(range(1000),4)\n",
    "    for v in range(997):\n",
    "        assert next(it) == v + 1.5 \n",
    "        \n",
    "    assert list(generador_media_movil([1, 2] * 1000, 2)) == [1.5] * 1999     \n",
    "    assert list(generador_media_movil([1, 2] * 1000, 3)) == [4/3, 5/3] * 999\n",
    "       \n",
    "    for v in generador_media_movil(range(10**100), 10):\n",
    "        if v >= 100:\n",
    "            break\n",
    "        \n",
    "    return True\n",
    "\n",
    "if __name__ == \"__main__\": \n",
    "    test_generador_media_movil()\n",
    "    print(\"OK\")"
   ]
  },
  {
   "cell_type": "markdown",
   "metadata": {},
   "source": [
    "##### `iterador_incluido`"
   ]
  },
  {
   "cell_type": "code",
   "execution_count": 37,
   "metadata": {},
   "outputs": [],
   "source": [
    "def iterador_incluido(itera_1, itera_2):\n",
    "    \"\"\"\n",
    "    Dado un primer iterador o iterable, comprueba que sus elementos están\n",
    "    incluidos en el mismo orden en los elementos del segundo iterador o \n",
    "    iterable.\n",
    "    \"\"\"\n",
    "    position = 0\n",
    "    for e in itera_1:\n",
    "        try:\n",
    "            position = itera_2[position:].index(e)\n",
    "        except ValueError:\n",
    "            return False\n",
    "    return True\n"
   ]
  },
  {
   "cell_type": "code",
   "execution_count": 38,
   "metadata": {},
   "outputs": [
    {
     "name": "stdout",
     "output_type": "stream",
     "text": [
      "OK\n"
     ]
    }
   ],
   "source": [
    "def test_iterador_incluido():\n",
    "    \"\"\"\n",
    "    Casos de prueba para iterador_incluido().\n",
    "    \"\"\"\n",
    "    \n",
    "    assert iterador_incluido(range(100), range(100))     \n",
    "    assert iterador_incluido(range(99), range(100))     \n",
    "    assert iterador_incluido(range(1,100), range(100))     \n",
    "\n",
    "    assert not iterador_incluido(range(100), range(99))\n",
    "    assert not iterador_incluido(range(100), range(1, 100))\n",
    "    \n",
    "    assert iterador_incluido(range(10, 90, 3), range(100))\n",
    "    assert not iterador_incluido(range(10, 110, 3), range(100))\n",
    "\n",
    "    assert not iterador_incluido(range(10, 110, 3), range(100))    \n",
    "    \n",
    "    l = list(range(10, 90, 3))\n",
    "    assert iterador_incluido(l, range(100))\n",
    "    l[20] = 11\n",
    "    assert not iterador_incluido(l, range(100))\n",
    "    assert not iterador_incluido(iter(l), range(100))\n",
    "    \n",
    "    assert iterador_incluido(range(1000), range(10**100))\n",
    "    assert not iterador_incluido(range(10**100), range(1000))\n",
    "    \n",
    "    return True\n",
    "    \n",
    "if __name__ == \"__main__\": \n",
    "    test_iterador_incluido()\n",
    "    print(\"OK\") "
   ]
  },
  {
   "cell_type": "markdown",
   "metadata": {},
   "source": [
    "### Iteradores y Generadores II\n",
    "Se pide la implementación de las funciones que aparecen a continuación. \n",
    "\n",
    "En el cuerpo de cada función hay una instrucción ```pass```, se debe sustituir por la implementación adecuada.\n",
    "\n",
    "Para cada función que se pide se proporcionan algunos tests. Las implementaciones deberían superar estos tests.\n",
    "#### Preámbulo"
   ]
  },
  {
   "cell_type": "code",
   "execution_count": 39,
   "metadata": {},
   "outputs": [],
   "source": [
    "# Importaciones\n",
    "import unittest\n",
    "from itertools import chain, count, cycle, repeat, zip_longest"
   ]
  },
  {
   "cell_type": "code",
   "execution_count": 40,
   "metadata": {},
   "outputs": [],
   "source": [
    "# Número de iteraciones que se usan en algunos tests.\n",
    "# Cuando se está realizando la práctica puede ser conveniente utilizar un valor más pequeño para que vaya más rápido.\n",
    "# Pero una vez finalizada debería poder ejecutarse con este valor en un tiempo de minutos.\n",
    "num_iteraciones_test = 10**7"
   ]
  },
  {
   "cell_type": "markdown",
   "metadata": {},
   "source": [
    "#### Secuencia generalizada de Fibonacci\n",
    "En la secuencia de Fibonacci, cada valor se obtiene sumando los dos anteriores. Se considera una generalización en la que cada valor se obtiene sumando los *k* anteriores:\n",
    "- F(0) = ... = F(k-1) = 1\n",
    "- F(n) = F(n-1) + ... + F(n-k+1)"
   ]
  },
  {
   "cell_type": "markdown",
   "metadata": {},
   "source": [
    "### Función `fibonacci_generalizado`"
   ]
  },
  {
   "cell_type": "code",
   "execution_count": 41,
   "metadata": {},
   "outputs": [
    {
     "name": "stdout",
     "output_type": "stream",
     "text": [
      "1\n",
      "1\n",
      "1\n",
      "3\n",
      "5\n",
      "9\n",
      "17\n",
      "31\n",
      "57\n",
      "105\n"
     ]
    }
   ],
   "source": [
    "def fibonacci_generalizado(k, iniciales = None):\n",
    "   \"\"\"\n",
    "   Genera indefinidamente valores de la secuencia generalizada de Fibonacci.\n",
    "   Cada valor, salvo los iniciales, es la suma de los k anteriores.\n",
    "   Los valores iniciales, que deben ser k, son los valores de F(0) ... F(k-1).\n",
    "   El valor por defecto de los valores iniciales es 1.\n",
    "   El espacio de memoria utilizado debería ser O(k)\n",
    "   \"\"\"\n",
    "   \n",
    "   if iniciales is None:\n",
    "      iniciales = [1] * k\n",
    "   assert len(iniciales) == k\n",
    "\n",
    "   valores = list(iniciales)\n",
    "   for valor in valores:\n",
    "      yield valor\n",
    "   while True:\n",
    "      nuevo_valor = sum(valores)\n",
    "      yield nuevo_valor\n",
    "      valores.append(nuevo_valor)\n",
    "      valores.pop(0)\n",
    "\n",
    "\n",
    "generador = fibonacci_generalizado(3, None)\n",
    "for _ in range(10):\n",
    "    print(next(generador))\n",
    "      "
   ]
  },
  {
   "cell_type": "markdown",
   "metadata": {},
   "source": [
    "#### Tests para `fibonacci_generalizado`"
   ]
  },
  {
   "cell_type": "code",
   "execution_count": 42,
   "metadata": {},
   "outputs": [],
   "source": [
    "class TestFibonacciGeneralizado(unittest.TestCase):\n",
    "    \n",
    "    def setUp(self):\n",
    "        # Distintos casos de prueba formados por k (el orden de la secuencia),\n",
    "        # los valores iniciales y el inicio de la secuencia que se debe\n",
    "        # generar\n",
    "        self.casos_prueba = (\n",
    "            (2, None, [1, 1, 2, 3, 5, 8, 13, 21, 34]),\n",
    "            (2, [2, 2], [2, 2, 4, 6, 10, 16, 26, 42]),\n",
    "            (3, None, [1, 1, 1, 3, 5, 9, 17, 31, 57]),\n",
    "            (4, None, [1, 1, 1, 1, 4, 7, 13, 25, 49]),\n",
    "        )\n",
    "        \n",
    "    def test_1(self):\n",
    "        # Primera comprobación de los casos de prueba\n",
    "        for k, iniciales, secuencia in self.casos_prueba:\n",
    "            i = 0\n",
    "            for v in fibonacci_generalizado(k, iniciales):\n",
    "                if i >= len(secuencia):\n",
    "                    break\n",
    "                self.assertEqual(v, secuencia[i])\n",
    "                i += 1\n",
    "            assert i == len(secuencia)\n",
    "\n",
    "    def test_2(self):\n",
    "        # Segunda comprobación de los casos de prueba\n",
    "        for k, iniciales, secuencia in self.casos_prueba:\n",
    "            for v, w in zip(fibonacci_generalizado(k, iniciales), secuencia):\n",
    "                self.assertEqual(v, w)\n",
    "                \n",
    "    def test_3(self):\n",
    "        # Tercera comprobación de los casos de prueba\n",
    "        for k, iniciales, secuencia in self.casos_prueba: \n",
    "            generador = fibonacci_generalizado(k, iniciales)\n",
    "            for v in secuencia:\n",
    "                self.assertEqual(v, next(generador))\n",
    "                \n",
    "    def test_muchos_valores(self):\n",
    "        # Comprobación de que se generan muchos valores\n",
    "        generador = fibonacci_generalizado(4, [0, 0, 0, 0])\n",
    "        for _ in range(num_iteraciones_test):\n",
    "            self.assertEqual(next(generador), 0)\n"
   ]
  },
  {
   "cell_type": "markdown",
   "metadata": {},
   "source": [
    "#### Iterador repetido\n",
    "Dado un iterador o iterable, se quiere generar sus elementos repetidamente, donde el número de repeticiones de cada elemento viene dado por un segundo iterador o iterable."
   ]
  },
  {
   "cell_type": "markdown",
   "metadata": {},
   "source": [
    "#### Función `iter_repetido`"
   ]
  },
  {
   "cell_type": "code",
   "execution_count": 43,
   "metadata": {},
   "outputs": [],
   "source": [
    "def iter_repetido(itera, repeticiones):\n",
    "    \"\"\"\n",
    "    Genera los elementos del primer argumento tantas veces como el elemento \n",
    "    correspondiente del segundo argumento.\n",
    "    Se espera que los elementos del segundo argumento sean números naturales.\n",
    "    El primer elemento del primer argumento se genera tantas veces como el \n",
    "    primer elemento del segundo argumento, ... el elemento i-ésimo del primer \n",
    "    argumento se genera tantas veces como el elemento i-ésimo del segundo\n",
    "    argumento...\n",
    "    Si el número de elementos de los dos argumentos fuera diferente, se\n",
    "    generarán elementos hasta que uno se quede sin elementos.\n",
    "    \"\"\"\n",
    "    for e,repe in zip(itera,repeticiones):\n",
    "        for _ in range(repe):\n",
    "            yield e\n",
    "    \n"
   ]
  },
  {
   "cell_type": "markdown",
   "metadata": {},
   "source": [
    "#### Tests para `iter_repetido`"
   ]
  },
  {
   "cell_type": "code",
   "execution_count": 44,
   "metadata": {},
   "outputs": [],
   "source": [
    "class TestIterRepetido(unittest.TestCase):\n",
    "    \n",
    "    def setUp(self):\n",
    "        # Distintos casos de prueba formados por el iterable, las repeticiones\n",
    "        # y la lista de valores que se deben generar\n",
    "        self.casos_prueba = (\n",
    "            (\"abc\", [3, 0, 2], ['a', 'a', 'a', 'c', 'c']),\n",
    "            (\"abcd\", [3, 0, 2], ['a', 'a', 'a', 'c', 'c']),\n",
    "            (\"abc\", [3, 0, 2, 4], ['a', 'a', 'a', 'c', 'c']),\n",
    "            (range(3), range(1, 4), [0, 1, 1, 2, 2, 2])\n",
    "    )\n",
    "        \n",
    "    def test_1(self):\n",
    "        # Primera comprobación de los casos de prueba\n",
    "        for iterable, repeticiones, lista in self.casos_prueba:\n",
    "            self.assertEqual(list(iter_repetido(iterable, repeticiones)), \n",
    "                             lista)\n",
    "\n",
    "    def test_2(self):\n",
    "        # Segunda comprobación de los casos de prueba\n",
    "        for iterable, repeticiones, lista in self.casos_prueba:\n",
    "            for v, w in zip_longest(iter_repetido(iterable, repeticiones), \n",
    "                                    lista):\n",
    "                self.assertEqual(v, w)\n",
    "\n",
    "    def test_3(self):\n",
    "        # Tercera comprobación de los casos de prueba        \n",
    "        for iterable, repeticiones, lista in self.casos_prueba:\n",
    "            generador = iter_repetido(iterable, repeticiones)\n",
    "            for v in lista:\n",
    "                self.assertEqual(v, next(generador))\n",
    "                \n",
    "    def test_muchos_valores_1(self):\n",
    "        # Primera comprobación de que se generan muchos valores\n",
    "        generador = iter_repetido(count(), repeat(1))\n",
    "        for i in range(num_iteraciones_test):\n",
    "            self.assertEqual(i, next(generador))\n",
    "\n",
    "    def test_muchos_valores_2(self):\n",
    "        # Segunda comprobación de que se generan muchos valores\n",
    "        repeticiones = [3, 0, 1]\n",
    "        generador = iter_repetido(count(), cycle(repeticiones))\n",
    "        r = 0\n",
    "        for i in range(num_iteraciones_test):\n",
    "            for _ in range(repeticiones[r]):\n",
    "                self.assertEqual(i, next(generador))\n",
    "            r = r + 1 \n",
    "            if r == len(repeticiones): r = 0            "
   ]
  },
  {
   "cell_type": "markdown",
   "metadata": {},
   "source": [
    "#### Mezcla de iteradores ordenados\n",
    "Dados dos iteradores o iterables que generan valores ordenados, se quiere mezclar los elementos de ambos. La mezcla consiste en generar en orden los elementos de los dos iteradores."
   ]
  },
  {
   "cell_type": "markdown",
   "metadata": {},
   "source": [
    "#### Función `iter_mezcla`"
   ]
  },
  {
   "cell_type": "code",
   "execution_count": 45,
   "metadata": {},
   "outputs": [],
   "source": [
    "def iter_mezcla(iter_1, iter_2):\n",
    "    \"\"\"\n",
    "    Dados dos iteradores o iterables, suponiendo que ambos generan valores en\n",
    "    orden, se generan los elementos de ambos de manera ordenada.\n",
    "    La cantidad de memoria usada debe ser O(1).\n",
    "    \"\"\"\n",
    "    iter_1 = iter(iter_1)\n",
    "    iter_2 = iter(iter_2)\n",
    "\n",
    "    e1 = next(iter_1, None)\n",
    "    e2 = next(iter_2, None)\n",
    "\n",
    "    while e1 is not None or e2 is not None:\n",
    "            if e1 is not None and (e2 is None or e1 <= e2):\n",
    "                  yield e1\n",
    "                  e1 = next(iter_1, None)\n",
    "            else:\n",
    "                  yield e2\n",
    "                  e2 = next(iter_2, None)\n"
   ]
  },
  {
   "cell_type": "markdown",
   "metadata": {},
   "source": [
    "#### Tests para `iter_mezcla`"
   ]
  },
  {
   "cell_type": "code",
   "execution_count": 46,
   "metadata": {},
   "outputs": [],
   "source": [
    "class TestIterMezcla(unittest.TestCase):\n",
    "    \n",
    "    def setUp(self):\n",
    "        # Distintos casos de prueba formados por los dos iterables de entrada y\n",
    "        # un tercero con la salida esperada\n",
    "        self.casos_prueba = (\n",
    "            (range(100), range(100, 200), range(200)),\n",
    "            (range(0, 100, 2), range(1, 100, 2), range(100)),\n",
    "            (range(0, 100, 4), range(2, 100, 4), range(0, 100, 2)),\n",
    "            (range(0, 100), range(200, 300), \n",
    "             chain(range(0, 100), range(200, 300))),\n",
    "            (range(100), range(100), (x for x in range(100) for _ in range(2))),\n",
    "            (range(0, 100, 3), range(0, 100, 5), \n",
    "             sorted(chain(range(0, 100, 3), range(0, 100, 5)))),\n",
    "            (range(num_iteraciones_test), \n",
    "             range(num_iteraciones_test, 2*num_iteraciones_test),\n",
    "             range(2*num_iteraciones_test)),\n",
    "            (range(0, num_iteraciones_test, 2), \n",
    "             range(1, num_iteraciones_test, 2), \n",
    "             range(num_iteraciones_test)),\n",
    "            (range(num_iteraciones_test), range(num_iteraciones_test), \n",
    "             (x for x in range(num_iteraciones_test) for _ in range(2)))\n",
    "        )\n",
    "        \n",
    "    def test_1(self):\n",
    "        # Primera comprobación con los casos de prueba\n",
    "        for it_1, it_2, it_resultado in self.casos_prueba:\n",
    "            for v, w in zip_longest(iter_mezcla(it_1, it_2), it_resultado):\n",
    "                self.assertEqual(v, w) \n",
    "\n",
    "    def test_2(self):\n",
    "        # Segunda comprobación con los casos de prueba\n",
    "        # La diferencia con la primera es el orden en que se pasan los iterables\n",
    "        for it_1, it_2, it_resultado in self.casos_prueba:\n",
    "            for v, w in zip_longest(iter_mezcla(it_2, it_1), it_resultado):\n",
    "                self.assertEqual(v, w) \n"
   ]
  },
  {
   "cell_type": "markdown",
   "metadata": {},
   "source": [
    "### Ejecucion de tests (parte 2)"
   ]
  },
  {
   "cell_type": "code",
   "execution_count": 47,
   "metadata": {},
   "outputs": [
    {
     "name": "stderr",
     "output_type": "stream",
     "text": [
      "...........\n",
      "----------------------------------------------------------------------\n",
      "Ran 11 tests in 95.514s\n",
      "\n",
      "OK\n"
     ]
    }
   ],
   "source": [
    "if __name__ == '__main__':\n",
    "    unittest.main(argv=['first-arg-is-ignored'], exit=False)"
   ]
  },
  {
   "cell_type": "markdown",
   "metadata": {},
   "source": [
    "# 3. Sobrecarga de operadores"
   ]
  },
  {
   "cell_type": "code",
   "execution_count": 5,
   "metadata": {},
   "outputs": [],
   "source": [
    "class Vector():\n",
    "    def __init__ (self, x,y):\n",
    "      self.x = x\n",
    "      self.y = y\n",
    "\n",
    "    def __repr__ (self):\n",
    "      # <__main__.Vector instance at 0x01DDDDC8>\n",
    "      return '<Vector (%f, %f)>'% (self.x, self.y)\n",
    "    \n",
    "    def __add__ (self,v):\n",
    "      # Sumar dos Vectores\n",
    "      return Vector(self.x+ v.x, self.y+ v.y)\n",
    "    \n",
    "    def __sub__ (self,v):\n",
    "      # Restar dos Vectores\n",
    "      return Vector (self.x-v.x, self.y-v.y)\n",
    "    \n",
    "    def __mul__ (self,s):\n",
    "      # Multiplicar un Vectores por un escalar\n",
    "      return Vector (self.x* s,self.y *s)\n",
    "    \n",
    "    def __eq__(self,v):\n",
    "      return self.x ==v.x and self.y== v.y\n",
    "    \n",
    "    def __ne__(self,v):\n",
    "      return self.x !=v.x or self.y!= v.y\n",
    "    \n",
    "    def __getitem__(self,index):\n",
    "      if index ==0:\n",
    "        return self.x\n",
    "      elif index == 1:\n",
    "        return self.y\n",
    "      else:\n",
    "        raise IndexError(\"El vector solo tiene dos elementos\")\n",
    "    \n",
    "    def __str__(self):\n",
    "      return\"({},{})\".format(self.x,self.y)"
   ]
  },
  {
   "cell_type": "code",
   "execution_count": 6,
   "metadata": {},
   "outputs": [
    {
     "name": "stdout",
     "output_type": "stream",
     "text": [
      "(5,12) (1,-2) (9,15) False True 3 <Vector (2.000000, 7.000000)>\n"
     ]
    }
   ],
   "source": [
    "a= Vector(3,5)\n",
    "b= Vector(2,7)\n",
    "print(a+b,a-b,a*3,a==b, a!=b, a[0],repr(b))"
   ]
  },
  {
   "cell_type": "code",
   "execution_count": 7,
   "metadata": {},
   "outputs": [],
   "source": [
    "import heapq\n",
    "class Proceso:\n",
    "\n",
    "    def __init__(self,pid, nombre):\n",
    "        self.pid =pid\n",
    "        self.nombre= nombre\n",
    "\n",
    "    def __str__(self):\n",
    "        return f\"{self.pid} - {self.nombre}\"\n",
    "\n",
    "    def __repr__(self):\n",
    "        return str(self)\n",
    "\n",
    "class ProcesoOrdenable(Proceso):\n",
    "\n",
    "    def __init__(self,pid, nombre, mode=\"FIFO\"):\n",
    "        super().__init__(pid,nombre)\n",
    "        self.mode =mode\n",
    "\n",
    "    def __eq__(self,otro):\n",
    "        return self.pid == otro.pid\n",
    "    \n",
    "    def __lt__(self,otro):\n",
    "        if self.mode == \"FIFO\":\n",
    "            return self.pid <otro.pid\n",
    "        elif self.mode == \"LIFO\":\n",
    "            return otro.pid <self.pid\n",
    "        else:\n",
    "            return self.nombre< otro.nombre"
   ]
  },
  {
   "cell_type": "code",
   "execution_count": null,
   "metadata": {},
   "outputs": [],
   "source": [
    "#A partir de aqui no se puede ejecutar, no esta terminado en el notebook\n",
    "procesos =[(0,1,\"init\"),(20, 2, \"xinit\"),(0,3, \"dameon-loader\"), (0,)]"
   ]
  },
  {
   "cell_type": "code",
   "execution_count": null,
   "metadata": {},
   "outputs": [],
   "source": [
    "cola= list()\n",
    "for p in procesos:\n",
    "    heapq.heappush(cola,(p[0], Proceso(p[1],p[2])))\n",
    "\n",
    "print(heapq.heappop(cola))"
   ]
  },
  {
   "cell_type": "code",
   "execution_count": null,
   "metadata": {},
   "outputs": [],
   "source": [
    "cola = list()\n",
    "for p in procesos:\n",
    "    heapq.heappush(cola, (p[0], ProcesoOrdenable(p[1], p[2], mode=\"STR\")))\n",
    "    \n",
    "print(cola)\n",
    "print(heapq.heappop(cola), cola)"
   ]
  }
 ],
 "metadata": {
  "kernelspec": {
   "display_name": "Python 3",
   "language": "python",
   "name": "python3"
  },
  "language_info": {
   "codemirror_mode": {
    "name": "ipython",
    "version": 3
   },
   "file_extension": ".py",
   "mimetype": "text/x-python",
   "name": "python",
   "nbconvert_exporter": "python",
   "pygments_lexer": "ipython3",
   "version": "3.11.8"
  }
 },
 "nbformat": 4,
 "nbformat_minor": 2
}
